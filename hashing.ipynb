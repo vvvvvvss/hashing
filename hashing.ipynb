{
  "nbformat": 4,
  "nbformat_minor": 0,
  "metadata": {
    "colab": {
      "provenance": [],
      "authorship_tag": "ABX9TyMUFOHJgV0NKiI0BJO1ESJY",
      "include_colab_link": true
    },
    "kernelspec": {
      "name": "python3",
      "display_name": "Python 3"
    },
    "language_info": {
      "name": "python"
    }
  },
  "cells": [
    {
      "cell_type": "markdown",
      "metadata": {
        "id": "view-in-github",
        "colab_type": "text"
      },
      "source": [
        "<a href=\"https://colab.research.google.com/github/vvvvvvss/hashing/blob/main/hashing.ipynb\" target=\"_parent\"><img src=\"https://colab.research.google.com/assets/colab-badge.svg\" alt=\"Open In Colab\"/></a>"
      ]
    },
    {
      "cell_type": "code",
      "execution_count": 1,
      "metadata": {
        "colab": {
          "base_uri": "https://localhost:8080/"
        },
        "id": "FwPFGecf-vd7",
        "outputId": "0db49300-7f17-4c39-dd11-4ec836eb1e0e"
      },
      "outputs": [
        {
          "output_type": "stream",
          "name": "stdout",
          "text": [
            "\n",
            "1. Register\n",
            "2. Authenticate\n",
            "3. Exit\n",
            "Choose an option: 1\n",
            "Enter username: varsha\n",
            "Enter password: ··········\n",
            "User registered successfully!\n",
            "\n",
            "1. Register\n",
            "2. Authenticate\n",
            "3. Exit\n",
            "Choose an option: 2\n",
            "Enter username: varsha\n",
            "Enter password: ··········\n",
            "Authentication failed!\n",
            "\n",
            "1. Register\n",
            "2. Authenticate\n",
            "3. Exit\n",
            "Choose an option: 2\n",
            "Enter username: varsha\n",
            "Enter password: ··········\n",
            "Authentication successful!\n",
            "\n",
            "1. Register\n",
            "2. Authenticate\n",
            "3. Exit\n",
            "Choose an option: 3\n",
            "Exiting...\n"
          ]
        }
      ],
      "source": [
        "import hashlib\n",
        "import getpass\n",
        "\n",
        "user_data = {}\n",
        "\n",
        "def hash_password(password):\n",
        "    return hashlib.sha256(password.encode()).hexdigest()\n",
        "\n",
        "def register_user():\n",
        "    username = input(\"Enter username: \")\n",
        "    if username in user_data:\n",
        "        print(\"Username already exists!\")\n",
        "        return\n",
        "    password = getpass.getpass(\"Enter password: \")\n",
        "    user_data[username] = hash_password(password)\n",
        "    print(\"User registered successfully!\")\n",
        "\n",
        "def authenticate_user():\n",
        "    username = input(\"Enter username: \")\n",
        "    if username not in user_data:\n",
        "        print(\"Username not found!\")\n",
        "        return\n",
        "    password = getpass.getpass(\"Enter password: \")\n",
        "    if user_data[username] == hash_password(password):\n",
        "        print(\"Authentication successful!\")\n",
        "    else:\n",
        "        print(\"Authentication failed!\")\n",
        "\n",
        "def main():\n",
        "    while True:\n",
        "        print(\"\\n1. Register\\n2. Authenticate\\n3. Exit\")\n",
        "        choice = input(\"Choose an option: \")\n",
        "        if choice == \"1\":\n",
        "            register_user()\n",
        "        elif choice == \"2\":\n",
        "            authenticate_user()\n",
        "        elif choice == \"3\":\n",
        "            print(\"Exiting...\")\n",
        "            break\n",
        "        else:\n",
        "            print(\"Invalid choice! Please try again.\")\n",
        "\n",
        "if __name__ == \"__main__\":\n",
        "    main()\n"
      ]
    },
    {
      "cell_type": "code",
      "source": [],
      "metadata": {
        "id": "QjbSwtdS-yc5"
      },
      "execution_count": null,
      "outputs": []
    }
  ]
}